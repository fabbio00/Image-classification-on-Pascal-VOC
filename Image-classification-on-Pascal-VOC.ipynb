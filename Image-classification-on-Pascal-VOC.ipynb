{
  "nbformat": 4,
  "nbformat_minor": 0,
  "metadata": {
    "colab": {
      "provenance": [],
      "collapsed_sections": [
        "44z3w8KZDiKa",
        "-Nn7jWy_kg71"
      ],
      "gpuType": "T4",
      "toc_visible": true,
      "include_colab_link": true
    },
    "kernelspec": {
      "name": "python3",
      "display_name": "Python 3"
    },
    "language_info": {
      "name": "python"
    },
    "accelerator": "GPU"
  },
  "cells": [
    {
      "cell_type": "markdown",
      "metadata": {
        "id": "view-in-github",
        "colab_type": "text"
      },
      "source": [
        "<a href=\"https://colab.research.google.com/github/fabbio00/Image-classification-on-Pascal-VOC/blob/main/Image-classification-on-Pascal-VOC.ipynb\" target=\"_parent\"><img src=\"https://colab.research.google.com/assets/colab-badge.svg\" alt=\"Open In Colab\"/></a>"
      ]
    },
    {
      "cell_type": "markdown",
      "source": [
        "## Import dependencies"
      ],
      "metadata": {
        "id": "ovNeo8YJBfOP"
      }
    },
    {
      "cell_type": "code",
      "execution_count": null,
      "metadata": {
        "id": "i0WJS_BEBaWy"
      },
      "outputs": [],
      "source": [
        "import keras\n",
        "import numpy as np\n",
        "import pandas as pd\n",
        "import os\n",
        "from os import listdir\n",
        "from os.path import isfile, join\n",
        "import matplotlib.pyplot as plt\n",
        "import cv2\n",
        "import matplotlib.image as mpimg\n",
        "import xml.etree.ElementTree as ET\n",
        "from PIL import Image\n",
        "import re\n",
        "import csv\n",
        "\n",
        "import tensorflow as tf\n",
        "from tensorflow.keras.preprocessing import image\n",
        "from tensorflow.keras.preprocessing.image import ImageDataGenerator\n",
        "from tensorflow.keras import layers, models, optimizers\n",
        "from tensorflow.keras.callbacks import ModelCheckpoint\n",
        "from tensorflow.keras.applications.inception_v3 import InceptionV3\n",
        "from keras.models import load_model\n",
        "from tensorflow.keras.models import Model\n",
        "from sklearn.model_selection import train_test_split\n",
        "\n",
        "from sklearn.metrics import confusion_matrix\n",
        "import seaborn as sns\n",
        "from collections import defaultdict"
      ]
    },
    {
      "cell_type": "code",
      "source": [
        "from google.colab import drive\n",
        "drive.mount('/content/drive', force_remount = True)"
      ],
      "metadata": {
        "id": "RuRf11hbBlQF",
        "colab": {
          "base_uri": "https://localhost:8080/"
        },
        "outputId": "5bad15a2-c38f-4c2f-b6eb-8c68f9c5ce11"
      },
      "execution_count": null,
      "outputs": [
        {
          "output_type": "stream",
          "name": "stdout",
          "text": [
            "Mounted at /content/drive\n"
          ]
        }
      ]
    },
    {
      "cell_type": "markdown",
      "source": [
        "Initialize main paths"
      ],
      "metadata": {
        "id": "9RplKZjdBspP"
      }
    },
    {
      "cell_type": "code",
      "source": [
        "# impostare la path in cui si trova il file con il codice\n",
        "main_path = '/content/drive/MyDrive/Consegna_AML_Andena_Marini'\n",
        "annot_path = main_path + '/dataset_grande/Annotations/'\n",
        "images_path = main_path + '/dataset_grande/JPEGImages/'"
      ],
      "metadata": {
        "id": "-7SldKg4BnUc"
      },
      "execution_count": null,
      "outputs": []
    },
    {
      "cell_type": "markdown",
      "source": [
        "## Pre-processing of data"
      ],
      "metadata": {
        "id": "DgQDvyc-Ct-C"
      }
    },
    {
      "cell_type": "code",
      "source": [
        "# creazione dataframe con tutti i file name degli xml\n",
        "xml_files = [file for file in os.listdir(annot_path) if file.endswith('.xml')]\n",
        "dfXML = pd.DataFrame({'fileName': xml_files})"
      ],
      "metadata": {
        "id": "6u3bTtWqQEJv"
      },
      "execution_count": null,
      "outputs": []
    },
    {
      "cell_type": "code",
      "source": [
        "csv_path = main_path + '/filesXML.csv'\n",
        "dfXML.to_csv(csv_path, index=False)"
      ],
      "metadata": {
        "id": "XAtR2QJPQg69"
      },
      "execution_count": null,
      "outputs": []
    },
    {
      "cell_type": "code",
      "source": [
        "df = pd.DataFrame(columns=['fileName','xmin','ymin','xmax','ymax','class'])"
      ],
      "metadata": {
        "id": "Y04t-av8CvPK"
      },
      "execution_count": null,
      "outputs": []
    },
    {
      "cell_type": "code",
      "source": [
        "allFiles = [f for f in listdir(annot_path) if isfile(join(annot_path, f))]\n",
        "print(len(allFiles))"
      ],
      "metadata": {
        "id": "ChHiB7urDFwY",
        "colab": {
          "base_uri": "https://localhost:8080/"
        },
        "outputId": "3646d165-73c1-47b6-a5d8-bd1681a1f42a"
      },
      "execution_count": null,
      "outputs": [
        {
          "output_type": "stream",
          "name": "stdout",
          "text": [
            "17235\n"
          ]
        }
      ]
    },
    {
      "cell_type": "code",
      "source": [
        "def create_df(data, vector):\n",
        "  for file in vector:\n",
        "    if(file.split(\".\")[1] == 'xml'):\n",
        "      fileName = file.replace(\".xml\", \".jpg\") # prendo l'immagine jpg associata all'xml\n",
        "      # inizializzo l'albero xml del file che sto ciclando\n",
        "      tree = ET.parse(annot_path + file)\n",
        "      root = tree.getroot()\n",
        "\n",
        "      # intercetto le informazioni dei tag dell'albero\n",
        "      for obj in root.iter('object'):\n",
        "        cls_name = obj.find('name').text\n",
        "        xml_box = obj.find('bndbox')\n",
        "        xmin = xml_box.find('xmin').text\n",
        "        ymin = xml_box.find('ymin').text\n",
        "        xmax = xml_box.find('xmax').text\n",
        "        ymax = xml_box.find('ymax').text\n",
        "\n",
        "        new_row = pd.DataFrame({'fileName': [fileName], 'xmin': [xmin], 'ymin': [ymin], 'xmax': [xmax], 'ymax': [ymax], 'class': [cls_name]})\n",
        "        data = pd.concat([data, new_row], ignore_index=True)\n",
        "\n",
        "  return data"
      ],
      "metadata": {
        "id": "3ykE1la0DHuk"
      },
      "execution_count": null,
      "outputs": []
    },
    {
      "cell_type": "code",
      "source": [
        "df = create_df(df, allFiles)\n",
        "df.head()"
      ],
      "metadata": {
        "id": "lZYW4SdKDMAK"
      },
      "execution_count": null,
      "outputs": []
    },
    {
      "cell_type": "markdown",
      "source": [
        "Save to CSV"
      ],
      "metadata": {
        "id": "Y8JBBLB_Eg2k"
      }
    },
    {
      "cell_type": "code",
      "source": [
        "csv_path = main_path + '/annotFiles.csv'\n",
        "df.to_csv(csv_path, index=False)"
      ],
      "metadata": {
        "id": "ntYn6yznEp1f"
      },
      "execution_count": null,
      "outputs": []
    },
    {
      "cell_type": "markdown",
      "source": [
        "### Test of matching bounding boxes to images"
      ],
      "metadata": {
        "id": "44z3w8KZDiKa"
      }
    },
    {
      "cell_type": "markdown",
      "source": [
        "Loading CSV"
      ],
      "metadata": {
        "id": "9bTHDbBWFQzV"
      }
    },
    {
      "cell_type": "code",
      "source": [
        "csv_path = main_path + '/annotFiles.csv'\n",
        "df = pd.read_csv(csv_path)"
      ],
      "metadata": {
        "id": "t3XKoQZjFQfp"
      },
      "execution_count": null,
      "outputs": []
    },
    {
      "cell_type": "code",
      "source": [
        "# prendo un'immagine random\n",
        "filepath = df.sample()['fileName'].values[0]\n",
        "print(filepath)\n",
        "\n",
        "# prendo tutte le righe del dataframe che danno informazioni sull'immagine\n",
        "df2 = df[df['fileName'] == filepath]\n",
        "\n",
        "# inizializzo l'immagine jpg\n",
        "im = np.array(Image.open(filepath))"
      ],
      "metadata": {
        "id": "BBUPb459Duub"
      },
      "execution_count": null,
      "outputs": []
    },
    {
      "cell_type": "code",
      "source": [
        "image = cv2.imread(filepath)\n",
        "\n",
        "# Creare una copia dell'immagine originale\n",
        "image_with_rectangles = image.copy()\n",
        "\n",
        "# Creare rettangoli per ogni coordinata e disegnarli sull'immagine copiata\n",
        "for idx, row in df2.iterrows():\n",
        "    print(row['class'])\n",
        "    box = np.array([\n",
        "         int(row['xmin']),\n",
        "         int(row['ymin']),\n",
        "         int(row['xmax']),\n",
        "         int(row['ymax'])\n",
        "    ])\n",
        "    print(box)\n",
        "    cv2.rectangle(image_with_rectangles, (box[0], box[1]), (box[2], box[3]), (0, 0, 255), 2)  # (0, 0, 255) rappresenta il colore rosso, 2 è lo spessore della linea\n",
        "\n",
        "# Visualizza l'immagine con tutti i rettangoli\n",
        "plt.imshow(cv2.cvtColor(image_with_rectangles, cv2.COLOR_BGR2RGB))\n",
        "plt.axis('off')\n",
        "plt.show()"
      ],
      "metadata": {
        "id": "ypIVF0oHEb1C"
      },
      "execution_count": null,
      "outputs": []
    },
    {
      "cell_type": "markdown",
      "source": [
        "## Creating the background class"
      ],
      "metadata": {
        "id": "VD5D5obnFokC"
      }
    },
    {
      "cell_type": "code",
      "source": [
        "def clean_filename(filename):\n",
        "    # Utilizza espressioni regolari per cercare eventuali parentesi tonde alla fine del nome del file\n",
        "    match = re.search(r' \\(\\d+\\)\\.', filename)\n",
        "    # Se trova una corrispondenza, rimuovi la parte tra parentesi tonde\n",
        "    if match:\n",
        "      filename = filename[:match.start()] + filename[match.end()-1:]\n",
        "    return filename"
      ],
      "metadata": {
        "id": "TCLTYD_oF48R"
      },
      "execution_count": null,
      "outputs": []
    },
    {
      "cell_type": "code",
      "source": [
        "csv_path = main_path + '/filesXML.csv'\n",
        "dfFilesXML = pd.read_csv(csv_path)\n",
        "\n",
        "background_df = pd.DataFrame(columns=['fileName','xmin','ymin','xmax','ymax','class'])\n",
        "\n",
        "folder_path = main_path + '/background_img'\n",
        "if not os.path.exists(folder_path):\n",
        "    os.makedirs(folder_path)\n",
        "    print(f\"Cartella '{folder_path}' creata con successo.\")\n",
        "else:\n",
        "    print(f\"La cartella '{folder_path}' esiste già.\")\n",
        "\n",
        "k = 0\n",
        "\n",
        "for i in range(len(dfFilesXML)):\n",
        "  print(i)\n",
        "\n",
        "  annot = dfFilesXML.at[i, \"fileName\"]\n",
        "  annot = clean_filename(annot)\n",
        "  print(annot)\n",
        "\n",
        "  annotations = pd.DataFrame(columns=['xmin', 'ymin', 'xmax', 'ymax'])\n",
        "\n",
        "  if(annot.split(\".\")[1] == 'xml'):\n",
        "    fileName = images_path + annot.replace(\".xml\", \".jpg\") # prendo l'immagine jpg associata all'xml\n",
        "    image = cv2.imread(fileName)\n",
        "    # inizializzo l'albero xml del file che sto ciclando\n",
        "    tree = ET.parse(annot_path + annot)\n",
        "    root = tree.getroot()\n",
        "\n",
        "    # intercetto le informazioni dei tag dell'albero\n",
        "    for obj in root.iter('object'):\n",
        "      cls_name = obj.find('name').text\n",
        "      xml_box = obj.find('bndbox')\n",
        "      xmin = xml_box.find('xmin').text\n",
        "      ymin = xml_box.find('ymin').text\n",
        "      xmax = xml_box.find('xmax').text\n",
        "      ymax = xml_box.find('ymax').text\n",
        "\n",
        "      new_row = pd.DataFrame({'xmin': [xmin], 'ymin': [ymin], 'xmax': [xmax], 'ymax': [ymax]})\n",
        "      annotations = pd.concat([annotations, new_row], ignore_index=True)\n",
        "\n",
        "  # Definisco la dimensione della finestra per i ritagli casuali\n",
        "  window_size = (150, 150)\n",
        "\n",
        "  num_background_images = 3\n",
        "  # Creo una lista per contenere le immagini generate\n",
        "  background_images = []\n",
        "\n",
        "  for _ in range(num_background_images):\n",
        "    # Scelgo casualmente le coordinate di inizio della finestra\n",
        "    if(image.shape[1] - window_size[0] > 0 and image.shape[0] - window_size[1] > 0):\n",
        "      start_x = np.random.randint(0, image.shape[1] - window_size[0]) # restituisce un numero tra 0 e larghezza dell'immagine - larghezza della finiestra\n",
        "      start_y = np.random.randint(0, image.shape[0] - window_size[1]) # restituisce un numero tra 0 e altezza dell'immagine - altezza della finiestra\n",
        "\n",
        "    # Controllo se la finestra si sovrappone con qualche bounding box\n",
        "    overlapping = False\n",
        "    for index, row in annotations.iterrows():\n",
        "      if (\n",
        "          start_x < int(row.xmax) and\n",
        "          start_x + window_size[0] > int(row.xmin) and\n",
        "          start_y < int(row.ymax) and\n",
        "          start_y + window_size[1] > int(row.ymin)\n",
        "      ):\n",
        "          overlapping = True\n",
        "          break\n",
        "\n",
        "    # Se la finestra non si sovrappone, ritaglia e aggiungi all'elenco\n",
        "    if not overlapping:\n",
        "      k += 1\n",
        "      window = image[start_y:start_y + window_size[1], start_x:start_x + window_size[0]]\n",
        "      if not window.size == 0: # verifico che l'immagine sia stata caricacata correttamente prima di convertire i colori\n",
        "        save_path = main_path + f'/background_img/background_image{k}.jpg'\n",
        "        print(save_path)\n",
        "        cv2.imwrite(save_path, cv2.cvtColor(window, cv2.COLOR_RGB2BGR))\n",
        "\n",
        "        new_row = pd.DataFrame({'fileName': [save_path], 'xmin': [start_x], 'ymin': [start_y],\n",
        "                                'xmax': [start_x + window_size[0]], 'ymax': [start_y + window_size[1]], 'class': [\"background\"]})\n",
        "        background_df = pd.concat([background_df, new_row], ignore_index=True)"
      ],
      "metadata": {
        "id": "feY8aNm5GEr4"
      },
      "execution_count": null,
      "outputs": []
    },
    {
      "cell_type": "code",
      "source": [
        "csv_path = main_path + '/annotBackground.csv'\n",
        "background_df.to_csv(csv_path, index=False)"
      ],
      "metadata": {
        "id": "Q9WT5o0JdWDn"
      },
      "execution_count": null,
      "outputs": []
    },
    {
      "cell_type": "markdown",
      "source": [
        "## Cutting and saving bounding boxes from images"
      ],
      "metadata": {
        "id": "6mq3Se26F9UQ"
      }
    },
    {
      "cell_type": "code",
      "source": [
        "csv_path = main_path + '/annotFiles.csv'\n",
        "annotations = pd.read_csv(csv_path)\n",
        "print(len(annotations))\n",
        "\n",
        "# creo la cartella dove salvare le immagini\n",
        "folder_path = main_path + '/dataset_grande/CuttedBoundingBoxesImages/'\n",
        "if not os.path.exists(folder_path):\n",
        "    os.makedirs(folder_path)\n",
        "    print(f\"Cartella '{folder_path}' creata con successo.\")\n",
        "else:\n",
        "    print(f\"La cartella '{folder_path}' esiste già.\")"
      ],
      "metadata": {
        "id": "nEewoBqjGzyV"
      },
      "execution_count": null,
      "outputs": []
    },
    {
      "cell_type": "code",
      "source": [
        "for i in range(0, len(annotations)):\n",
        "\n",
        "  newPath = images_path + annotations['fileName'].iloc[i]\n",
        "  print(newPath)\n",
        "  ymin = int(annotations['ymin'].iloc[i])\n",
        "  ymax = int(annotations['ymax'].iloc[i])\n",
        "  xmin = int(annotations['xmin'].iloc[i])\n",
        "  xmax = int(annotations['xmax'].iloc[i])\n",
        "  img = cv2.imread(newPath)[ymin:ymax, xmin:xmax]\n",
        "\n",
        "  newName = os.path.splitext(annotations['fileName'].iloc[i])[0] + annotations['class'].iloc[i] + str(i)\n",
        "  # Salvo l'immagine ritagliata nel percorso specificato\n",
        "  cv2.imwrite(main_path + '/dataset_grande/CuttedBoundingBoxesImages/' +  newName + '.jpg' , img)\n",
        "  #Adeguo il nome delle righe nel csv al nuovo nome\n",
        "  annotations['fileName'].iloc[i] =  newName + 'jpg'"
      ],
      "metadata": {
        "id": "4xoWIum0HEo6"
      },
      "execution_count": null,
      "outputs": []
    },
    {
      "cell_type": "code",
      "source": [
        "csv_path = main_path + '/dataset_grande/BoundingBoxes.csv'\n",
        "annotations.to_csv(csv_path, index=False)"
      ],
      "metadata": {
        "id": "QBQ8Dl-PIO1s"
      },
      "execution_count": null,
      "outputs": []
    },
    {
      "cell_type": "markdown",
      "source": [
        "## Creating test set and train set"
      ],
      "metadata": {
        "id": "s7PO4frOsICt"
      }
    },
    {
      "cell_type": "markdown",
      "source": [
        "### Splitting test set and train set"
      ],
      "metadata": {
        "id": "zn0eanjqsfUe"
      }
    },
    {
      "cell_type": "code",
      "source": [
        "data = pd.read_csv(main_path + '/dataset_grande/BoundingBoxes.csv')\n",
        "data_back = pd.read_csv(main_path + '/annotBackground.csv')\n",
        "data = pd.concat([data, data_back], axis=0, ignore_index=True)\n",
        "\n",
        "# Contare il numero di samples per ogni classe\n",
        "class_counts = data['class'].value_counts()\n",
        "\n",
        "# Inizializzare un DataFrame vuoto per il dataset bilanciato\n",
        "balanced_test_df = pd.DataFrame()\n",
        "\n",
        "# Per ogni classe, prendo un numero di campioni fino a raggiungere il limite imposto\n",
        "for class_label in class_counts.index:\n",
        "    class_df = data[data['class'] == class_label]\n",
        "    samples_per_class = min(100, len(class_df))  # Prendo 100 campioni o il numero disponibile se minore di 100\n",
        "    balanced_samples = class_df.sample(samples_per_class, random_state=42)\n",
        "    balanced_test_df = pd.concat([balanced_test_df, balanced_samples], axis=0)"
      ],
      "metadata": {
        "id": "7mj_QIf_p2QM"
      },
      "execution_count": null,
      "outputs": []
    },
    {
      "cell_type": "code",
      "source": [
        "# Estrarre i nomi dei file unici da entrambi i dataset\n",
        "unique_corrected_file_names = data['fileName'].unique()\n",
        "unique_modified_dataset_balanced = balanced_test_df['fileName'].unique()\n",
        "\n",
        "# Calcolare la differenza tra le due liste di nomi di file\n",
        "difference = set(unique_corrected_file_names) - set(unique_modified_dataset_balanced)\n",
        "\n",
        "# Filtrare il DataFrame originale per ottenere solo le righe con i nomi dei file nella differenza\n",
        "difference_df = data[data['fileName'].isin(difference)]"
      ],
      "metadata": {
        "id": "1jD2swgoqYfO"
      },
      "execution_count": null,
      "outputs": []
    },
    {
      "cell_type": "code",
      "source": [
        "print(len(balanced_test_df))\n",
        "print(len(difference_df))"
      ],
      "metadata": {
        "colab": {
          "base_uri": "https://localhost:8080/"
        },
        "id": "QHaUbLOwrS4D",
        "outputId": "d742d1ba-beaa-4863-d9b4-42595b773c8c"
      },
      "execution_count": null,
      "outputs": [
        {
          "output_type": "stream",
          "name": "stdout",
          "text": [
            "2100\n",
            "42655\n"
          ]
        }
      ]
    },
    {
      "cell_type": "code",
      "source": [
        "balanced_test_df.to_csv(main_path + '/dataset_testing.csv', index=False)\n",
        "difference_df.to_csv(main_path + '/boundingBoxes_senza_testing.csv', index=False)"
      ],
      "metadata": {
        "id": "Bm_ShHxAp6Pb"
      },
      "execution_count": null,
      "outputs": []
    },
    {
      "cell_type": "markdown",
      "source": [
        "### Balancing training classes"
      ],
      "metadata": {
        "id": "H5ZvlZNPjLMs"
      }
    },
    {
      "cell_type": "code",
      "source": [
        "train_df =  pd.read_csv(main_path + '/boundingBoxes_senza_testing.csv')\n",
        "train_df.tail()"
      ],
      "metadata": {
        "id": "IzZpTeITjklO",
        "colab": {
          "base_uri": "https://localhost:8080/",
          "height": 206
        },
        "outputId": "3c9126bb-7e88-420e-941e-56fe01c6431d"
      },
      "execution_count": null,
      "outputs": [
        {
          "output_type": "execute_result",
          "data": {
            "text/plain": [
              "                        fileName  xmin   ymin  xmax  ymax       class\n",
              "42650  background_image_4443.jpg   250  129.0   400   279  background\n",
              "42651  background_image_4444.jpg   201   87.0   351   237  background\n",
              "42652  background_image_4445.jpg    72  186.0   222   336  background\n",
              "42653  background_image_4446.jpg    40    5.0   190   155  background\n",
              "42654  background_image_4447.jpg   148   35.0   298   185  background"
            ],
            "text/html": [
              "\n",
              "  <div id=\"df-d267a23e-56c3-4206-ba23-48124bf52fe7\" class=\"colab-df-container\">\n",
              "    <div>\n",
              "<style scoped>\n",
              "    .dataframe tbody tr th:only-of-type {\n",
              "        vertical-align: middle;\n",
              "    }\n",
              "\n",
              "    .dataframe tbody tr th {\n",
              "        vertical-align: top;\n",
              "    }\n",
              "\n",
              "    .dataframe thead th {\n",
              "        text-align: right;\n",
              "    }\n",
              "</style>\n",
              "<table border=\"1\" class=\"dataframe\">\n",
              "  <thead>\n",
              "    <tr style=\"text-align: right;\">\n",
              "      <th></th>\n",
              "      <th>fileName</th>\n",
              "      <th>xmin</th>\n",
              "      <th>ymin</th>\n",
              "      <th>xmax</th>\n",
              "      <th>ymax</th>\n",
              "      <th>class</th>\n",
              "    </tr>\n",
              "  </thead>\n",
              "  <tbody>\n",
              "    <tr>\n",
              "      <th>42650</th>\n",
              "      <td>background_image_4443.jpg</td>\n",
              "      <td>250</td>\n",
              "      <td>129.0</td>\n",
              "      <td>400</td>\n",
              "      <td>279</td>\n",
              "      <td>background</td>\n",
              "    </tr>\n",
              "    <tr>\n",
              "      <th>42651</th>\n",
              "      <td>background_image_4444.jpg</td>\n",
              "      <td>201</td>\n",
              "      <td>87.0</td>\n",
              "      <td>351</td>\n",
              "      <td>237</td>\n",
              "      <td>background</td>\n",
              "    </tr>\n",
              "    <tr>\n",
              "      <th>42652</th>\n",
              "      <td>background_image_4445.jpg</td>\n",
              "      <td>72</td>\n",
              "      <td>186.0</td>\n",
              "      <td>222</td>\n",
              "      <td>336</td>\n",
              "      <td>background</td>\n",
              "    </tr>\n",
              "    <tr>\n",
              "      <th>42653</th>\n",
              "      <td>background_image_4446.jpg</td>\n",
              "      <td>40</td>\n",
              "      <td>5.0</td>\n",
              "      <td>190</td>\n",
              "      <td>155</td>\n",
              "      <td>background</td>\n",
              "    </tr>\n",
              "    <tr>\n",
              "      <th>42654</th>\n",
              "      <td>background_image_4447.jpg</td>\n",
              "      <td>148</td>\n",
              "      <td>35.0</td>\n",
              "      <td>298</td>\n",
              "      <td>185</td>\n",
              "      <td>background</td>\n",
              "    </tr>\n",
              "  </tbody>\n",
              "</table>\n",
              "</div>\n",
              "    <div class=\"colab-df-buttons\">\n",
              "\n",
              "  <div class=\"colab-df-container\">\n",
              "    <button class=\"colab-df-convert\" onclick=\"convertToInteractive('df-d267a23e-56c3-4206-ba23-48124bf52fe7')\"\n",
              "            title=\"Convert this dataframe to an interactive table.\"\n",
              "            style=\"display:none;\">\n",
              "\n",
              "  <svg xmlns=\"http://www.w3.org/2000/svg\" height=\"24px\" viewBox=\"0 -960 960 960\">\n",
              "    <path d=\"M120-120v-720h720v720H120Zm60-500h600v-160H180v160Zm220 220h160v-160H400v160Zm0 220h160v-160H400v160ZM180-400h160v-160H180v160Zm440 0h160v-160H620v160ZM180-180h160v-160H180v160Zm440 0h160v-160H620v160Z\"/>\n",
              "  </svg>\n",
              "    </button>\n",
              "\n",
              "  <style>\n",
              "    .colab-df-container {\n",
              "      display:flex;\n",
              "      gap: 12px;\n",
              "    }\n",
              "\n",
              "    .colab-df-convert {\n",
              "      background-color: #E8F0FE;\n",
              "      border: none;\n",
              "      border-radius: 50%;\n",
              "      cursor: pointer;\n",
              "      display: none;\n",
              "      fill: #1967D2;\n",
              "      height: 32px;\n",
              "      padding: 0 0 0 0;\n",
              "      width: 32px;\n",
              "    }\n",
              "\n",
              "    .colab-df-convert:hover {\n",
              "      background-color: #E2EBFA;\n",
              "      box-shadow: 0px 1px 2px rgba(60, 64, 67, 0.3), 0px 1px 3px 1px rgba(60, 64, 67, 0.15);\n",
              "      fill: #174EA6;\n",
              "    }\n",
              "\n",
              "    .colab-df-buttons div {\n",
              "      margin-bottom: 4px;\n",
              "    }\n",
              "\n",
              "    [theme=dark] .colab-df-convert {\n",
              "      background-color: #3B4455;\n",
              "      fill: #D2E3FC;\n",
              "    }\n",
              "\n",
              "    [theme=dark] .colab-df-convert:hover {\n",
              "      background-color: #434B5C;\n",
              "      box-shadow: 0px 1px 3px 1px rgba(0, 0, 0, 0.15);\n",
              "      filter: drop-shadow(0px 1px 2px rgba(0, 0, 0, 0.3));\n",
              "      fill: #FFFFFF;\n",
              "    }\n",
              "  </style>\n",
              "\n",
              "    <script>\n",
              "      const buttonEl =\n",
              "        document.querySelector('#df-d267a23e-56c3-4206-ba23-48124bf52fe7 button.colab-df-convert');\n",
              "      buttonEl.style.display =\n",
              "        google.colab.kernel.accessAllowed ? 'block' : 'none';\n",
              "\n",
              "      async function convertToInteractive(key) {\n",
              "        const element = document.querySelector('#df-d267a23e-56c3-4206-ba23-48124bf52fe7');\n",
              "        const dataTable =\n",
              "          await google.colab.kernel.invokeFunction('convertToInteractive',\n",
              "                                                    [key], {});\n",
              "        if (!dataTable) return;\n",
              "\n",
              "        const docLinkHtml = 'Like what you see? Visit the ' +\n",
              "          '<a target=\"_blank\" href=https://colab.research.google.com/notebooks/data_table.ipynb>data table notebook</a>'\n",
              "          + ' to learn more about interactive tables.';\n",
              "        element.innerHTML = '';\n",
              "        dataTable['output_type'] = 'display_data';\n",
              "        await google.colab.output.renderOutput(dataTable, element);\n",
              "        const docLink = document.createElement('div');\n",
              "        docLink.innerHTML = docLinkHtml;\n",
              "        element.appendChild(docLink);\n",
              "      }\n",
              "    </script>\n",
              "  </div>\n",
              "\n",
              "\n",
              "<div id=\"df-ebc5d7b9-3445-4cec-8736-29b3d5a7c49f\">\n",
              "  <button class=\"colab-df-quickchart\" onclick=\"quickchart('df-ebc5d7b9-3445-4cec-8736-29b3d5a7c49f')\"\n",
              "            title=\"Suggest charts\"\n",
              "            style=\"display:none;\">\n",
              "\n",
              "<svg xmlns=\"http://www.w3.org/2000/svg\" height=\"24px\"viewBox=\"0 0 24 24\"\n",
              "     width=\"24px\">\n",
              "    <g>\n",
              "        <path d=\"M19 3H5c-1.1 0-2 .9-2 2v14c0 1.1.9 2 2 2h14c1.1 0 2-.9 2-2V5c0-1.1-.9-2-2-2zM9 17H7v-7h2v7zm4 0h-2V7h2v10zm4 0h-2v-4h2v4z\"/>\n",
              "    </g>\n",
              "</svg>\n",
              "  </button>\n",
              "\n",
              "<style>\n",
              "  .colab-df-quickchart {\n",
              "      --bg-color: #E8F0FE;\n",
              "      --fill-color: #1967D2;\n",
              "      --hover-bg-color: #E2EBFA;\n",
              "      --hover-fill-color: #174EA6;\n",
              "      --disabled-fill-color: #AAA;\n",
              "      --disabled-bg-color: #DDD;\n",
              "  }\n",
              "\n",
              "  [theme=dark] .colab-df-quickchart {\n",
              "      --bg-color: #3B4455;\n",
              "      --fill-color: #D2E3FC;\n",
              "      --hover-bg-color: #434B5C;\n",
              "      --hover-fill-color: #FFFFFF;\n",
              "      --disabled-bg-color: #3B4455;\n",
              "      --disabled-fill-color: #666;\n",
              "  }\n",
              "\n",
              "  .colab-df-quickchart {\n",
              "    background-color: var(--bg-color);\n",
              "    border: none;\n",
              "    border-radius: 50%;\n",
              "    cursor: pointer;\n",
              "    display: none;\n",
              "    fill: var(--fill-color);\n",
              "    height: 32px;\n",
              "    padding: 0;\n",
              "    width: 32px;\n",
              "  }\n",
              "\n",
              "  .colab-df-quickchart:hover {\n",
              "    background-color: var(--hover-bg-color);\n",
              "    box-shadow: 0 1px 2px rgba(60, 64, 67, 0.3), 0 1px 3px 1px rgba(60, 64, 67, 0.15);\n",
              "    fill: var(--button-hover-fill-color);\n",
              "  }\n",
              "\n",
              "  .colab-df-quickchart-complete:disabled,\n",
              "  .colab-df-quickchart-complete:disabled:hover {\n",
              "    background-color: var(--disabled-bg-color);\n",
              "    fill: var(--disabled-fill-color);\n",
              "    box-shadow: none;\n",
              "  }\n",
              "\n",
              "  .colab-df-spinner {\n",
              "    border: 2px solid var(--fill-color);\n",
              "    border-color: transparent;\n",
              "    border-bottom-color: var(--fill-color);\n",
              "    animation:\n",
              "      spin 1s steps(1) infinite;\n",
              "  }\n",
              "\n",
              "  @keyframes spin {\n",
              "    0% {\n",
              "      border-color: transparent;\n",
              "      border-bottom-color: var(--fill-color);\n",
              "      border-left-color: var(--fill-color);\n",
              "    }\n",
              "    20% {\n",
              "      border-color: transparent;\n",
              "      border-left-color: var(--fill-color);\n",
              "      border-top-color: var(--fill-color);\n",
              "    }\n",
              "    30% {\n",
              "      border-color: transparent;\n",
              "      border-left-color: var(--fill-color);\n",
              "      border-top-color: var(--fill-color);\n",
              "      border-right-color: var(--fill-color);\n",
              "    }\n",
              "    40% {\n",
              "      border-color: transparent;\n",
              "      border-right-color: var(--fill-color);\n",
              "      border-top-color: var(--fill-color);\n",
              "    }\n",
              "    60% {\n",
              "      border-color: transparent;\n",
              "      border-right-color: var(--fill-color);\n",
              "    }\n",
              "    80% {\n",
              "      border-color: transparent;\n",
              "      border-right-color: var(--fill-color);\n",
              "      border-bottom-color: var(--fill-color);\n",
              "    }\n",
              "    90% {\n",
              "      border-color: transparent;\n",
              "      border-bottom-color: var(--fill-color);\n",
              "    }\n",
              "  }\n",
              "</style>\n",
              "\n",
              "  <script>\n",
              "    async function quickchart(key) {\n",
              "      const quickchartButtonEl =\n",
              "        document.querySelector('#' + key + ' button');\n",
              "      quickchartButtonEl.disabled = true;  // To prevent multiple clicks.\n",
              "      quickchartButtonEl.classList.add('colab-df-spinner');\n",
              "      try {\n",
              "        const charts = await google.colab.kernel.invokeFunction(\n",
              "            'suggestCharts', [key], {});\n",
              "      } catch (error) {\n",
              "        console.error('Error during call to suggestCharts:', error);\n",
              "      }\n",
              "      quickchartButtonEl.classList.remove('colab-df-spinner');\n",
              "      quickchartButtonEl.classList.add('colab-df-quickchart-complete');\n",
              "    }\n",
              "    (() => {\n",
              "      let quickchartButtonEl =\n",
              "        document.querySelector('#df-ebc5d7b9-3445-4cec-8736-29b3d5a7c49f button');\n",
              "      quickchartButtonEl.style.display =\n",
              "        google.colab.kernel.accessAllowed ? 'block' : 'none';\n",
              "    })();\n",
              "  </script>\n",
              "</div>\n",
              "    </div>\n",
              "  </div>\n"
            ],
            "application/vnd.google.colaboratory.intrinsic+json": {
              "type": "dataframe",
              "summary": "{\n  \"name\": \"train_df\",\n  \"rows\": 5,\n  \"fields\": [\n    {\n      \"column\": \"fileName\",\n      \"properties\": {\n        \"dtype\": \"string\",\n        \"samples\": [\n          \"background_image_4444.jpg\",\n          \"background_image_4447.jpg\",\n          \"background_image_4445.jpg\"\n        ],\n        \"num_unique_values\": 5,\n        \"semantic_type\": \"\",\n        \"description\": \"\"\n      }\n    },\n    {\n      \"column\": \"xmin\",\n      \"properties\": {\n        \"dtype\": \"number\",\n        \"std\": 87,\n        \"min\": 40,\n        \"max\": 250,\n        \"samples\": [\n          201,\n          148,\n          72\n        ],\n        \"num_unique_values\": 5,\n        \"semantic_type\": \"\",\n        \"description\": \"\"\n      }\n    },\n    {\n      \"column\": \"ymin\",\n      \"properties\": {\n        \"dtype\": \"number\",\n        \"std\": 72.42789517858434,\n        \"min\": 5.0,\n        \"max\": 186.0,\n        \"samples\": [\n          87.0,\n          35.0,\n          186.0\n        ],\n        \"num_unique_values\": 5,\n        \"semantic_type\": \"\",\n        \"description\": \"\"\n      }\n    },\n    {\n      \"column\": \"xmax\",\n      \"properties\": {\n        \"dtype\": \"number\",\n        \"std\": 87,\n        \"min\": 190,\n        \"max\": 400,\n        \"samples\": [\n          351,\n          298,\n          222\n        ],\n        \"num_unique_values\": 5,\n        \"semantic_type\": \"\",\n        \"description\": \"\"\n      }\n    },\n    {\n      \"column\": \"ymax\",\n      \"properties\": {\n        \"dtype\": \"number\",\n        \"std\": 72,\n        \"min\": 155,\n        \"max\": 336,\n        \"samples\": [\n          237,\n          185,\n          336\n        ],\n        \"num_unique_values\": 5,\n        \"semantic_type\": \"\",\n        \"description\": \"\"\n      }\n    },\n    {\n      \"column\": \"class\",\n      \"properties\": {\n        \"dtype\": \"category\",\n        \"samples\": [\n          \"background\"\n        ],\n        \"num_unique_values\": 1,\n        \"semantic_type\": \"\",\n        \"description\": \"\"\n      }\n    }\n  ]\n}"
            }
          },
          "metadata": {},
          "execution_count": 58
        }
      ]
    },
    {
      "cell_type": "code",
      "source": [
        "class_counts = train_df['class'].value_counts()\n",
        "\n",
        "# Visualizzare i dati con un istogramma\n",
        "class_counts.plot(kind='bar')\n",
        "plt.xlabel('Class')\n",
        "plt.ylabel('Number of Rows')\n",
        "plt.title('Histogram of Row Counts per Class')\n",
        "plt.show()\n",
        "\n",
        "print(\"Conteggio delle classi:\")\n",
        "print(class_counts)"
      ],
      "metadata": {
        "id": "fE8EtfgDoggG",
        "colab": {
          "base_uri": "https://localhost:8080/",
          "height": 939
        },
        "outputId": "5d0826f7-654f-49b4-b3ff-b8daf798a7e0"
      },
      "execution_count": null,
      "outputs": [
        {
          "output_type": "display_data",
          "data": {
            "text/plain": [
              "<Figure size 640x480 with 1 Axes>"
            ],
            "image/png": "[encoded data removed]"
          },
          "metadata": {}
        },
        {
          "output_type": "stream",
          "name": "stdout",
          "text": [
            "Conteggio delle classi:\n",
            "person         17407\n",
            "background      4323\n",
            "chair           2958\n",
            "car             2398\n",
            "dog             1505\n",
            "bottle          1467\n",
            "cat             1189\n",
            "bird            1178\n",
            "pottedplant     1102\n",
            "sheep            987\n",
            "boat             963\n",
            "aeroplane        909\n",
            "tvmonitor        795\n",
            "bicycle          742\n",
            "sofa             741\n",
            "motorbike        717\n",
            "horse            706\n",
            "diningtable      701\n",
            "cow              673\n",
            "train            608\n",
            "bus              586\n",
            "Name: class, dtype: int64\n"
          ]
        }
      ]
    },
    {
      "cell_type": "code",
      "source": [
        "# mischia le righe del dataframe\n",
        "train_df = train_df.sample(frac=1).reset_index(drop=True)\n",
        "\n",
        "# Funzione per limitare il numero di righe per classe\n",
        "def limit_rows(x):\n",
        "    return x.head(1200)\n",
        "\n",
        "# Applicare la funzione a ogni gruppo di classi\n",
        "limited_df = train_df.groupby('class').apply(limit_rows).reset_index(drop=True)\n",
        "\n",
        "class_counts = limited_df['class'].value_counts()\n",
        "\n",
        "class_counts.plot(kind='bar')\n",
        "plt.xlabel('Class')\n",
        "plt.ylabel('Number of Rows')\n",
        "plt.title('Histogram of Row Counts per Class')\n",
        "plt.show()\n",
        "\n",
        "print(\"Conteggio delle classi:\")\n",
        "print(class_counts)"
      ],
      "metadata": {
        "id": "eZOSsjpEjvkI",
        "colab": {
          "base_uri": "https://localhost:8080/",
          "height": 939
        },
        "outputId": "e551e5c4-1a38-49eb-ecf6-bf1a56c95991"
      },
      "execution_count": null,
      "outputs": [
        {
          "output_type": "display_data",
          "data": {
            "text/plain": [
              "<Figure size 640x480 with 1 Axes>"
            ],
            "image/png": "[encoded data removed]"
          },
          "metadata": {}
        },
        {
          "output_type": "stream",
          "name": "stdout",
          "text": [
            "Conteggio delle classi:\n",
            "dog            1200\n",
            "bottle         1200\n",
            "car            1200\n",
            "chair          1200\n",
            "background     1200\n",
            "person         1200\n",
            "cat            1189\n",
            "bird           1178\n",
            "pottedplant    1102\n",
            "sheep           987\n",
            "boat            963\n",
            "aeroplane       909\n",
            "tvmonitor       795\n",
            "bicycle         742\n",
            "sofa            741\n",
            "motorbike       717\n",
            "horse           706\n",
            "diningtable     701\n",
            "cow             673\n",
            "train           608\n",
            "bus             586\n",
            "Name: class, dtype: int64\n"
          ]
        }
      ]
    },
    {
      "cell_type": "code",
      "source": [
        "len(limited_df)"
      ],
      "metadata": {
        "id": "xAjq37iBj_96",
        "colab": {
          "base_uri": "https://localhost:8080/"
        },
        "outputId": "02cc0c70-fc9f-4a71-a3f7-67a9b0af5934"
      },
      "execution_count": null,
      "outputs": [
        {
          "output_type": "execute_result",
          "data": {
            "text/plain": [
              "19797"
            ]
          },
          "metadata": {},
          "execution_count": 61
        }
      ]
    },
    {
      "cell_type": "code",
      "source": [
        "# randomizzare e salvare il dataset\n",
        "limited_df = train_df.sample(frac=1).reset_index(drop=True)\n",
        "limited_df.to_csv(main_path + '/dataset_training.csv', index=False)"
      ],
      "metadata": {
        "id": "8YqBBu0bufnS"
      },
      "execution_count": null,
      "outputs": []
    },
    {
      "cell_type": "markdown",
      "source": [
        "## Data Augmentation"
      ],
      "metadata": {
        "id": "-Nn7jWy_kg71"
      }
    },
    {
      "cell_type": "code",
      "source": [
        "csv_file = main_path + '/dataset_grande/BoundingBoxes.csv'\n",
        "save_dir = main_path + '/dataset_grande/AugmentedImages/'\n",
        "newdf = pd.DataFrame(columns=['fileName','xmin','ymin','xmax','ymax','class'])\n",
        "\n",
        "df = pd.read_csv(csv_file)\n",
        "\n",
        "# Creo la cartella di salvataggio se non esiste\n",
        "if not os.path.exists(save_dir):\n",
        "    os.makedirs(save_dir)\n",
        "\n",
        "def crop_and_save_images(class_group, class_name, newdf):\n",
        "    count = 0\n",
        "    for _, row in class_group.iterrows():\n",
        "        if count >= 50:\n",
        "            break\n",
        "        image_path = os.path.join(main_path + '/dataset_grande/CuttedBoundingBoxesImages/', row['fileName'])\n",
        "        image = tf.io.read_file(image_path)\n",
        "        image = tf.image.decode_image(image, channels=3)\n",
        "        for i in range(3):\n",
        "            if image.shape[0] < 150 or image.shape[1] < 150:\n",
        "                break  # Salta l'immagine se troppo piccola\n",
        "            seed = (i, 0)\n",
        "            cropped_image = tf.image.stateless_random_crop(image, size=[150, 150, 3], seed=seed)\n",
        "            fileName = f\"{class_name}_{row['fileName'].split('.')[0]}_{i}.jpg\"\n",
        "            save_path = os.path.join(save_dir, fileName)\n",
        "            new_row = pd.DataFrame({'fileName': [fileName], 'xmin': 0, 'ymin': 0, 'xmax': 150, 'ymax': 150, 'class': [class_name]})\n",
        "            newdf = pd.concat([newdf, new_row], ignore_index=True)\n",
        "            tf.io.write_file(save_path, tf.image.encode_jpeg(cropped_image))\n",
        "            count += 1\n",
        "    return newdf\n",
        "\n",
        "# Applico il cropping e il salvataggio per ogni classe e aggiorna il dataframe\n",
        "for class_name, group in df.groupby('class'):\n",
        "    newdf = crop_and_save_images(group, class_name, newdf)\n",
        "\n",
        "\n",
        "newdf.to_csv(main_path + '/AugmentedImages.csv', index=False)"
      ],
      "metadata": {
        "id": "bSx4bD7NioBl"
      },
      "execution_count": null,
      "outputs": []
    },
    {
      "cell_type": "code",
      "source": [
        "folder_path = main_path + '/dataset_grande/AugmentedImages'\n",
        "\n",
        "output_csv = main_path + '/augmImg.csv'\n",
        "\n",
        "with open(output_csv, mode='w', newline='') as file:\n",
        "    writer = csv.writer(file)\n",
        "    writer.writerow(['fileName', 'xmin', 'ymin', 'xmax', 'ymax', 'class'])\n",
        "\n",
        "    for file_name in os.listdir(folder_path):\n",
        "        if file_name.endswith('.jpg'):  # Seleziona solo i file .jpg\n",
        "            # Estrarre la parte del nome prima del primo '_'\n",
        "            class_name = file_name.split('_')[0]\n",
        "            print(class_name)\n",
        "            writer.writerow([file_name, 0, 0, 0, 0, class_name])\n",
        "\n",
        "print(f\"Dati salvati con successo in {output_csv}\")"
      ],
      "metadata": {
        "id": "SFAXVg6QzDRV"
      },
      "execution_count": null,
      "outputs": []
    },
    {
      "cell_type": "markdown",
      "source": [
        "## Training"
      ],
      "metadata": {
        "id": "v6VbhalgIWP7"
      }
    },
    {
      "cell_type": "markdown",
      "source": [
        "### Loading data"
      ],
      "metadata": {
        "id": "xBKFzZ6OJvW0"
      }
    },
    {
      "cell_type": "code",
      "source": [
        "train_df = pd.read_csv(main_path + '/dataset_training.csv')\n",
        "\n",
        "#Adeguamento indirizzi immagini a drive individuali\n",
        "for i in range(len(train_df)):\n",
        "    if train_df.loc[i, 'class'] == 'background':\n",
        "        train_df.loc[i, 'fileName'] = main_path + '/background_img/' + train_df.loc[i, 'fileName']\n",
        "    else:\n",
        "        train_df.loc[i, 'fileName'] = main_path + '/dataset_grande/CuttedBoundingBoxesImages/' + train_df.loc[i, 'fileName']"
      ],
      "metadata": {
        "id": "uiwilYJMIumT"
      },
      "execution_count": null,
      "outputs": []
    },
    {
      "cell_type": "code",
      "source": [
        "batch_size = 128\n",
        "\n",
        "# Configurazione del generatore di dati\n",
        "datagen = ImageDataGenerator(\n",
        "    rescale=1.0/255,\n",
        "    validation_split=0.2,\n",
        ")\n",
        "\n",
        "# Carica il training set\n",
        "train_generator = datagen.flow_from_dataframe(\n",
        "    train_df,\n",
        "    directory=None,\n",
        "    x_col='fileName',\n",
        "    y_col='class',\n",
        "    weight_col=None,\n",
        "    target_size=(299, 299),\n",
        "    color_mode='rgb',\n",
        "    classes=None,\n",
        "    class_mode='categorical',\n",
        "    batch_size=batch_size,\n",
        "    shuffle=True,\n",
        "    seed=42,\n",
        "    subset=\"training\",\n",
        "    interpolation='nearest',\n",
        "    validate_filenames=True,\n",
        ")\n",
        "\n",
        "# Carica il validation set\n",
        "validation_generator = datagen.flow_from_dataframe(\n",
        "    train_df,\n",
        "    directory=None,\n",
        "    x_col='fileName',\n",
        "    y_col='class',\n",
        "    weight_col=None,\n",
        "    target_size=(299, 299),\n",
        "    color_mode='rgb',\n",
        "    classes=None,\n",
        "    class_mode='categorical',\n",
        "    batch_size=batch_size,\n",
        "    shuffle=True,\n",
        "    seed=42,\n",
        "    subset=\"validation\",\n",
        "    interpolation='nearest',\n",
        "    validate_filenames=True,\n",
        ")"
      ],
      "metadata": {
        "id": "UcjhEsABI0GF"
      },
      "execution_count": null,
      "outputs": []
    },
    {
      "cell_type": "markdown",
      "source": [
        "### Loading data with data augmentation"
      ],
      "metadata": {
        "id": "O65P-GRvlu5W"
      }
    },
    {
      "cell_type": "markdown",
      "source": [
        "Eseguire questa sezione solo per effettuare il training con data augmentation"
      ],
      "metadata": {
        "id": "tdoDGPIGl_SE"
      }
    },
    {
      "cell_type": "code",
      "source": [
        "train_df = pd.read_csv(main_path + '/dataset_training.csv')\n",
        "\n",
        "for i in range(len(train_df)):\n",
        "    if train_df.loc[i, 'class'] == 'background':\n",
        "        train_df.loc[i, 'fileName'] = main_path + '/background_img/' + train_df.loc[i, 'fileName']\n",
        "    else:\n",
        "        train_df.loc[i, 'fileName'] = main_path + '/dataset_grande/CuttedBoundingBoxesImages/' + train_df.loc[i, 'fileName']\n",
        "\n",
        "\n",
        "augmented_df = pd.read_csv(main_path + '/augmImg.csv')\n",
        "for i in range(0, len(augmented_df)):\n",
        "   augmented_df['fileName'].iloc[i] = main_path  + '/dataset_grande/AugmentedImages/' + augmented_df['fileName'].iloc[i]"
      ],
      "metadata": {
        "id": "ReYTB8BbmMGJ"
      },
      "execution_count": null,
      "outputs": []
    },
    {
      "cell_type": "code",
      "source": [
        "train_df = pd.concat([train_df, augmented_df], axis=0, ignore_index=True)\n",
        "train_df.tail()"
      ],
      "metadata": {
        "id": "fHEvaGUWmUmM"
      },
      "execution_count": null,
      "outputs": []
    },
    {
      "cell_type": "code",
      "source": [
        "batch_size = 128\n",
        "\n",
        "# Filtrare le immagini augmentate\n",
        "augmented_images = train_df[train_df['fileName'].str.contains('aug')]\n",
        "non_augmented_images = train_df[~train_df['fileName'].str.contains('aug')]\n",
        "\n",
        "# Dividere le immagini non augmentate in training e validation set\n",
        "train_non_aug, validation = train_test_split(non_augmented_images, test_size=0.2, random_state=1)\n",
        "\n",
        "# Unire le immagini augmentate con il training set non augmentato\n",
        "train_df_final = pd.concat([augmented_images, train_non_aug])\n",
        "\n",
        "# Configura il generatore di dati per il training (con data augmentation)\n",
        "train_datagen = ImageDataGenerator(\n",
        "    rescale=1.0/255,\n",
        ")\n",
        "\n",
        "\n",
        "validation_datagen = ImageDataGenerator(\n",
        "    rescale=1.0/255\n",
        ")\n",
        "\n",
        "# Generatore di training\n",
        "train_generator = train_datagen.flow_from_dataframe(\n",
        "    train_df_final,\n",
        "    directory=None,\n",
        "    x_col='fileName',\n",
        "    y_col='class',\n",
        "    target_size=(299, 299),\n",
        "    batch_size=batch_size,\n",
        "    class_mode='categorical',\n",
        "    shuffle=True,\n",
        "    subset=None,\n",
        ")\n",
        "\n",
        "# Generatore di validation\n",
        "validation_generator = validation_datagen.flow_from_dataframe(\n",
        "    validation,\n",
        "    directory=None,\n",
        "    x_col='fileName',\n",
        "    y_col='class',\n",
        "    target_size=(299, 299),\n",
        "    batch_size=batch_size,\n",
        "    class_mode='categorical',\n",
        "    shuffle=True,\n",
        "    subset=None,\n",
        ")"
      ],
      "metadata": {
        "id": "n0f60m-OmaB2"
      },
      "execution_count": null,
      "outputs": []
    },
    {
      "cell_type": "markdown",
      "source": [
        "### Checking data"
      ],
      "metadata": {
        "id": "3lSnwkTvo9-s"
      }
    },
    {
      "cell_type": "code",
      "source": [
        "#per vedere come sono associate le classi\n",
        "class_indices_mapping = train_generator.class_indices\n",
        "\n",
        "# Stampa la mappatura\n",
        "print(\"Mappatura tra nomi delle classi e indici numerici:\")\n",
        "for class_name, class_index in class_indices_mapping.items():\n",
        "    print(f\"{class_name}: {class_index}\")"
      ],
      "metadata": {
        "id": "dFrGZ4gtpBN-"
      },
      "execution_count": null,
      "outputs": []
    },
    {
      "cell_type": "code",
      "source": [
        "class_labels = train_generator.classes\n",
        "\n",
        "# Conta le occorrenze di ciascuna classe\n",
        "from collections import Counter\n",
        "class_distribution = Counter(class_labels)\n",
        "\n",
        "# Stampa la distribuzione delle classi\n",
        "print(\"Distribuzione delle classi nel train_generator:\")\n",
        "for class_label, count in class_distribution.items():\n",
        "    print(f\"Classe {class_label}: {count} campioni\")"
      ],
      "metadata": {
        "id": "akIggGYzpF1j"
      },
      "execution_count": null,
      "outputs": []
    },
    {
      "cell_type": "markdown",
      "source": [
        "### Loading Network"
      ],
      "metadata": {
        "id": "Gf_Hu9B8J2GT"
      }
    },
    {
      "cell_type": "code",
      "source": [
        "base_model = InceptionV3(weights='imagenet', include_top=False, input_shape=(299, 299, 3))"
      ],
      "metadata": {
        "id": "G7SqndHVlezp",
        "colab": {
          "base_uri": "https://localhost:8080/"
        },
        "outputId": "a373adc6-7c5d-46d8-adfe-00dd4e1b51eb"
      },
      "execution_count": null,
      "outputs": [
        {
          "output_type": "stream",
          "name": "stdout",
          "text": [
            "Downloading data from https://storage.googleapis.com/tensorflow/keras-applications/inception_v3/inception_v3_weights_tf_dim_ordering_tf_kernels_notop.h5\n",
            "87910968/87910968 [==============================] - 1s 0us/step\n"
          ]
        }
      ]
    },
    {
      "cell_type": "code",
      "source": [
        "# taglio del modello\n",
        "base_model = Model(inputs=base_model.input, outputs=base_model.get_layer('mixed9').output)"
      ],
      "metadata": {
        "id": "dC7BTJQJ2kxo"
      },
      "execution_count": null,
      "outputs": []
    },
    {
      "cell_type": "code",
      "source": [
        "from keras.regularizers import l1_l2, l2, l1\n",
        "for layer in base_model.layers:\n",
        "    layer.trainable = False\n",
        "\n",
        "model = models.Sequential([\n",
        "    base_model,\n",
        "    layers.GlobalAveragePooling2D(),\n",
        "    layers. Dense (500, activation='relu'),\n",
        "    layers.Dropout (0.5),\n",
        "    layers. Dense (400, activation='relu'),\n",
        "    layers.Dropout (0.5),\n",
        "    layers. Dense (300, activation='relu'),\n",
        "    layers.Dropout (0.5),\n",
        "    layers. Dense (200, activation='relu'),\n",
        "    layers.Dropout (0.5),\n",
        "    layers.Dense(21, activation='softmax')\n",
        "])\n",
        "\n",
        "model.summary()"
      ],
      "metadata": {
        "id": "4qUuS6VNJ1ba",
        "colab": {
          "base_uri": "https://localhost:8080/"
        },
        "outputId": "d842a232-71ef-422d-8982-c5d3ffa2bf6b"
      },
      "execution_count": null,
      "outputs": [
        {
          "output_type": "stream",
          "name": "stdout",
          "text": [
            "Model: \"sequential\"\n",
            "_________________________________________________________________\n",
            " Layer (type)                Output Shape              Param #   \n",
            "=================================================================\n",
            " model (Functional)          (None, 8, 8, 2048)        15722720  \n",
            "                                                                 \n",
            " global_average_pooling2d (  (None, 2048)              0         \n",
            " GlobalAveragePooling2D)                                         \n",
            "                                                                 \n",
            " dense (Dense)               (None, 500)               1024500   \n",
            "                                                                 \n",
            " dropout (Dropout)           (None, 500)               0         \n",
            "                                                                 \n",
            " dense_1 (Dense)             (None, 400)               200400    \n",
            "                                                                 \n",
            " dropout_1 (Dropout)         (None, 400)               0         \n",
            "                                                                 \n",
            " dense_2 (Dense)             (None, 300)               120300    \n",
            "                                                                 \n",
            " dropout_2 (Dropout)         (None, 300)               0         \n",
            "                                                                 \n",
            " dense_3 (Dense)             (None, 200)               60200     \n",
            "                                                                 \n",
            " dropout_3 (Dropout)         (None, 200)               0         \n",
            "                                                                 \n",
            " dense_4 (Dense)             (None, 21)                4221      \n",
            "                                                                 \n",
            "=================================================================\n",
            "Total params: 17132341 (65.35 MB)\n",
            "Trainable params: 1409621 (5.38 MB)\n",
            "Non-trainable params: 15722720 (59.98 MB)\n",
            "_________________________________________________________________\n"
          ]
        }
      ]
    },
    {
      "cell_type": "code",
      "source": [
        "checkpoint_path = main_path + '/checkpoint/modello-{epoch:02d}.h5'\n",
        "\n",
        "folder_path = main_path + '/checkpoint'\n",
        "if not os.path.exists(folder_path):\n",
        "    os.makedirs(folder_path)\n",
        "    print(f\"Cartella '{folder_path}' creata con successo.\")\n",
        "else:\n",
        "    print(f\"La cartella '{folder_path}' esiste già.\")\n",
        "\n",
        "# Crea il callback ModelCheckpoint\n",
        "checkpoint_callback = ModelCheckpoint(\n",
        "    filepath=checkpoint_path,\n",
        "    save_weights_only=True,\n",
        "    save_freq='epoch',\n",
        "    verbose=1\n",
        ")"
      ],
      "metadata": {
        "id": "xP_pxs0rJ8Hw"
      },
      "execution_count": null,
      "outputs": []
    },
    {
      "cell_type": "code",
      "source": [
        "model.compile(optimizer=optimizers.Adam(), loss='categorical_crossentropy', metrics=['accuracy'])\n",
        "\n",
        "history = model.fit(train_generator, epochs=10, batch_size=batch_size, validation_data=validation_generator, callbacks=[checkpoint_callback])\n",
        "\n",
        "model.save(main_path + '/checkpoint/model.h5')"
      ],
      "metadata": {
        "id": "LUKjOS3gKFme"
      },
      "execution_count": null,
      "outputs": []
    },
    {
      "cell_type": "code",
      "source": [
        "def plot_performance(history):\n",
        "  fig, ax = plt.subplots(1, 2)\n",
        "  fig.tight_layout()\n",
        "  train_acc = history.history['accuracy']\n",
        "  valid_acc = history.history['val_accuracy']\n",
        "  train_loss = history.history['loss']\n",
        "  valid_loss = history.history['val_loss']\n",
        "  ax[0].set_xlabel('Epoch')\n",
        "  ax[0].set_ylabel('Loss')\n",
        "  ax[0].set_title('Loss')\n",
        "  ax[0].plot(train_loss, label='Training Loss')\n",
        "  ax[0].plot(valid_loss, label='Validation Loss')\n",
        "  ax[0].legend()\n",
        "  ax[1].set_title('Accuracy')\n",
        "  ax[1].set_xlabel('Epoch')\n",
        "  ax[1].set_ylabel('Accuracy')\n",
        "  ax[1].plot(train_acc, label='Train accuracy')\n",
        "  ax[1].plot(valid_acc, label='Validation accuracy')\n",
        "  ax[1].legend()\n",
        "  plt.show()\n",
        "\n",
        "plot_performance(history)"
      ],
      "metadata": {
        "id": "DAN4-Zy_3Ubq"
      },
      "execution_count": null,
      "outputs": []
    },
    {
      "cell_type": "markdown",
      "source": [
        "## Testing"
      ],
      "metadata": {
        "id": "DAjz4tZSnRzz"
      }
    },
    {
      "cell_type": "markdown",
      "source": [
        "### Bounded Boxes Prediction"
      ],
      "metadata": {
        "id": "T5z8WVYooeao"
      }
    },
    {
      "cell_type": "code",
      "source": [
        "class_mapping = {\n",
        "    0: 'aeroplane',\n",
        "    1: 'background',\n",
        "    2: 'bicycle',\n",
        "    3: 'bird',\n",
        "    4: 'boat',\n",
        "    5: 'bottle',\n",
        "    6: 'bus',\n",
        "    7: 'car',\n",
        "    8: 'cat',\n",
        "    9: 'chair',\n",
        "    10: 'cow',\n",
        "    11: 'diningtable',\n",
        "    12: 'dog',\n",
        "    13: 'horse',\n",
        "    14: 'motorbike',\n",
        "    15: 'person',\n",
        "    16: 'pottedplant',\n",
        "    17: 'sheep',\n",
        "    18: 'sofa',\n",
        "    19: 'train',\n",
        "    20: 'tvmonitor'\n",
        "}"
      ],
      "metadata": {
        "id": "KJ5-aNLJomfD"
      },
      "execution_count": null,
      "outputs": []
    },
    {
      "cell_type": "code",
      "source": [
        "test_df =  pd.read_csv(main_path + '/dataset_testing.csv')\n",
        "\n",
        "for i in range(len(test_df)):\n",
        "    if test_df.loc[i, 'class'] == 'background':\n",
        "        test_df.loc[i, 'fileName'] = main_path + '/background_img/' + test_df.loc[i, 'fileName']\n",
        "    else:\n",
        "        test_df.loc[i, 'fileName'] = main_path + '/dataset_grande/CuttedBoundingBoxesImages/' + test_df.loc[i, 'fileName']"
      ],
      "metadata": {
        "id": "R6GOkRn5opRt"
      },
      "execution_count": null,
      "outputs": []
    },
    {
      "cell_type": "code",
      "source": [
        "model = load_model(main_path + '/checkpoint/model.h5')\n",
        "\n",
        "class_correct_predictions = defaultdict(int)\n",
        "class_total_predictions = defaultdict(int)\n",
        "\n",
        "true_labels = []\n",
        "predicted_labels = []\n",
        "\n",
        "total_predictions = 0\n",
        "correct_predictions = 0\n",
        "\n",
        "for index, row in test_df.iterrows():\n",
        "    if(index % 100 == 0):\n",
        "      print(index)\n",
        "    file_path = row['fileName']\n",
        "    if os.path.exists(file_path):\n",
        "        img = image.load_img(file_path, target_size=(299, 299))\n",
        "        img_array = image.img_to_array(img)\n",
        "        img_array = np.expand_dims(img_array, axis=0)\n",
        "        img_array = img_array / 255.0\n",
        "\n",
        "        # previsione del modello\n",
        "        predictions = model.predict(img_array, verbose = 0)\n",
        "        predicted_indexes = np.argmax(predictions, axis=1)\n",
        "        predicted_class = [class_mapping[index] for index in predicted_indexes]\n",
        "        # classe reale\n",
        "        true_class = row['class']\n",
        "\n",
        "        # Aggiorna le liste per la matrice di confusione\n",
        "        true_labels.append(true_class)\n",
        "        predicted_labels.append(predicted_class[0])\n",
        "\n",
        "        # Aggiorna i contatori per la classe reale\n",
        "        class_total_predictions[true_class] += 1\n",
        "\n",
        "        # Se la previsione è corretta, aggiorna anche il contatore delle corrette\n",
        "        if predicted_class[0] == true_class:\n",
        "            class_correct_predictions[true_class] += 1\n",
        "            correct_predictions += 1\n",
        "        total_predictions += 1\n",
        "    else:\n",
        "        print(f\"File not found: {file_path}\")\n",
        "\n",
        "# Calcola l'accuracy per ogni classe\n",
        "class_accuracies = {class_label: (class_correct_predictions[class_label] / class_total_predictions[class_label] if class_total_predictions[class_label] > 0 else 0)\n",
        "                    for class_label in class_total_predictions.keys()}\n",
        "\n",
        "for class_label, accuracy in class_accuracies.items():\n",
        "    print(f'Accuracy for class {class_label}: {accuracy:.2f}')\n",
        "\n",
        "# Calcola l'accuracy totale\n",
        "accuracy_tot = correct_predictions / total_predictions if total_predictions > 0 else 0\n",
        "print(f'Accuracy: {accuracy_tot}')\n",
        "\n",
        "# Calcola la matrice di confusione\n",
        "conf_matrix = confusion_matrix(true_labels, predicted_labels)\n",
        "\n",
        "# Nomi delle classi in ordine basato sugli indici\n",
        "class_names = [class_mapping[i] for i in range(len(class_mapping))]\n",
        "\n",
        "plt.figure(figsize=(12, 12))\n",
        "sns.heatmap(conf_matrix, annot=True, fmt='g', cmap='Reds', xticklabels=class_names, yticklabels=class_names)\n",
        "plt.title('Matrice di Confusione')\n",
        "plt.xlabel('Etichette Previste')\n",
        "plt.ylabel('Etichette Vere')\n",
        "plt.show()\n"
      ],
      "metadata": {
        "id": "eUCDvO8VinPN"
      },
      "execution_count": null,
      "outputs": []
    },
    {
      "cell_type": "markdown",
      "source": [
        "### Precision, recall, F1"
      ],
      "metadata": {
        "id": "RG4sqYOs4MA9"
      }
    },
    {
      "cell_type": "code",
      "source": [
        "test_datagen = ImageDataGenerator(rescale=1./255)\n",
        "\n",
        "test_generator = test_datagen.flow_from_dataframe(\n",
        "    dataframe=test_df,\n",
        "    x_col='fileName',\n",
        "    y_col='class',\n",
        "    target_size=(299, 299),\n",
        "    color_mode='rgb',\n",
        "    class_mode='categorical',\n",
        "    batch_size=128,\n",
        "    shuffle=False\n",
        ")"
      ],
      "metadata": {
        "id": "iR7bc8u94K85"
      },
      "execution_count": null,
      "outputs": []
    },
    {
      "cell_type": "code",
      "source": [
        "class_indices_mapping = test_generator.class_indices\n",
        "\n",
        "y_test = test_df['class'].values\n",
        "y_test = [class_indices_mapping[index] for index in y_test]\n",
        "\n",
        "predictions = model.predict(test_generator, steps=len(test_generator))"
      ],
      "metadata": {
        "id": "qfUo2jVS4Vfw"
      },
      "execution_count": null,
      "outputs": []
    },
    {
      "cell_type": "code",
      "source": [
        "def convert_to_one_hot(number, num_classes):\n",
        "    one_hot = np.zeros(num_classes)\n",
        "    one_hot[number] = 1\n",
        "    return one_hot\n",
        "\n",
        "one_hot_list = []\n",
        "for number in y_test:\n",
        "  one_hot_vector = convert_to_one_hot(number, 21)\n",
        "  one_hot_list.append(one_hot_vector)"
      ],
      "metadata": {
        "id": "lcocgULp4dBS"
      },
      "execution_count": null,
      "outputs": []
    },
    {
      "cell_type": "code",
      "source": [
        "from sklearn.metrics import classification_report\n",
        "\n",
        "predicted = (predictions > 0.5).astype(int)\n",
        "\n",
        "y_true = one_hot_list\n",
        "y_pred = predicted\n",
        "target_names = class_indices_mapping.keys()\n",
        "print(classification_report(y_true, y_pred, target_names=target_names, zero_division=0))"
      ],
      "metadata": {
        "id": "HHPfy1Fa4fLm"
      },
      "execution_count": null,
      "outputs": []
    },
    {
      "cell_type": "markdown",
      "source": [
        "### Sliding Window"
      ],
      "metadata": {
        "id": "NthkevxunjSF"
      }
    },
    {
      "cell_type": "code",
      "source": [
        "# scale = fattore di ridimensionamento dell'immagine ad ogni interazione\n",
        "# minSize = non genera immagini al di sotto di questo valore\n",
        "def pyramid(image, scale=1.5, minSize=(30, 30)):\n",
        "    pyramid_images = [image]  # primo valore generato che corrisponde all'immagine intera\n",
        "    while True:\n",
        "        w = int(image.shape[1] / scale) # calcola la nuova dimensione a partire dalla larghezza dell'immagine\n",
        "        image = cv2.resize(image, (w, w)) # imposta altezza e larghezza a w in modo che siano uguali\n",
        "        if image.shape[0] < minSize[1] or image.shape[1] < minSize[0]: # controlla se la dimensione non ha sforato la minsize\n",
        "            break\n",
        "        pyramid_images.append(image)\n",
        "    return pyramid_images\n",
        "\n",
        "def sliding_window(image, stepSize, windowSize):\n",
        "    windows = []\n",
        "    for y in range(0, image.shape[0] - windowSize[1], stepSize):\n",
        "        for x in range(0, image.shape[1] - windowSize[0], stepSize):\n",
        "            windows.append((x, y, image[y:y + windowSize[1], x:x + windowSize[0]]))\n",
        "    return windows\n",
        "\n",
        "def preprocess_for_model(window, target_size=(299, 299)):\n",
        "    window = cv2.resize(window, target_size)\n",
        "    window = window.astype(\"float32\") / 255.0\n",
        "    window = np.expand_dims(window, axis=0)\n",
        "    return window"
      ],
      "metadata": {
        "id": "uUEighNTnTU_"
      },
      "execution_count": null,
      "outputs": []
    },
    {
      "cell_type": "code",
      "source": [
        "model = load_model(main_path + '/checkpoint/model.h5')\n",
        "image = cv2.imread(main_path + '/dataset_grande/JPEGImages/2007_000039.jpg')\n",
        "\n",
        "# definisco la dimensione della finestra e il passo\n",
        "(winW, winH) = (160, 160)\n",
        "stepSize = 32\n",
        "\n",
        "detected_classes = set()\n",
        "\n",
        "confidence_threshold = 0.8\n",
        "\n",
        "for resized in pyramid(image, scale=1.5):\n",
        "    for (x, y, window) in sliding_window(resized, stepSize=stepSize, windowSize=(winW, winH)):\n",
        "        if window.shape[0] != winH or window.shape[1] != winW:\n",
        "            continue\n",
        "\n",
        "        plt.imshow(cv2.cvtColor(window, cv2.COLOR_BGR2RGB))\n",
        "        plt.show()\n",
        "\n",
        "        # Pre-elaborazione e predizione\n",
        "        window_processed = preprocess_for_model(window)\n",
        "        preds = model.predict(window_processed)\n",
        "\n",
        "        # Ottenere l'indice della classe con la massima probabilità\n",
        "        predicted_class_index = np.argmax(preds, axis=-1)[0]\n",
        "        # Ottenere il valore di probabilità per la classe predetta\n",
        "        predicted_class_probability = np.max(preds, axis=-1)[0]\n",
        "\n",
        "        # Controlla se la predizione supera la soglia di confidenza\n",
        "        if predicted_class_probability >= confidence_threshold:\n",
        "            print(f\"Classe predetta: {class_mapping[predicted_class_index]} con probabilità: {predicted_class_probability}\")\n",
        "\n",
        "            # evitare duplicati nell'output finale\n",
        "            if predicted_class_index not in detected_classes:\n",
        "                detected_classes.add(predicted_class_index)\n",
        "\n",
        "if(len(detected_classes) == 0 or (len(detected_classes) == 1 and  class_mapping[list(detected_classes[0])] == 'background')):\n",
        "  print(\"Nessun oggetto rilevato\")\n",
        "else:\n",
        "  print(\"Classi rilevate nell'immagine:\")\n",
        "  for cls in detected_classes:\n",
        "      print(class_mapping[cls])"
      ],
      "metadata": {
        "id": "CZrPQq6QnXHI"
      },
      "execution_count": null,
      "outputs": []
    }
  ]
}